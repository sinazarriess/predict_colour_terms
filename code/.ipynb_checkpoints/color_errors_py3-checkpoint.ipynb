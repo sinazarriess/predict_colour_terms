{
 "cells": [
  {
   "cell_type": "code",
   "execution_count": 84,
   "metadata": {},
   "outputs": [
    {
     "data": {
      "text/plain": [
       "<module 'color_hist_p3' from 'C:\\\\Users\\\\datenverlust\\\\Desktop\\\\Studium\\\\Master\\\\Masterarbeit\\\\Coding\\\\predict_colour_terms\\\\code\\\\color_hist_p3.py'>"
      ]
     },
     "execution_count": 84,
     "metadata": {},
     "output_type": "execute_result"
    }
   ],
   "source": [
    "%matplotlib inline\n",
    "# -*- coding: utf-8 -*-\n",
    "\n",
    "import color_hist_p3 as ch\n",
    "import importlib\n",
    "importlib.reload(ch)\n"
   ]
  },
  {
   "cell_type": "code",
   "execution_count": 85,
   "metadata": {},
   "outputs": [
    {
     "name": "stdout",
     "output_type": "stream",
     "text": [
      "(12373, 515)\n",
      "Xtrain (11416, 515)\n",
      "Xtest (999, 515)\n"
     ]
    }
   ],
   "source": [
    "colwords = ['blue','red','green','yellow','white','black','grey','pink','purple','orange','brown']\n",
    "Xtrain,Xtest = ch.load_region_data(data_path='../data/')\n",
    "#(w2f_train,w2f_test,colf_train,Xtrain_hist3d,Xtest_hist3d) = ch.load_region_data(feat_path='../../Preproc/PreProcOut/Xcolorhist3d_v1.npz')"
   ]
  },
  {
   "cell_type": "code",
   "execution_count": 86,
   "metadata": {},
   "outputs": [
    {
     "data": {
      "text/plain": [
       "{0.0, 1.0, 2.0, 3.0, 4.0, 5.0, 6.0, 7.0, 8.0, 9.0, 10.0}"
      ]
     },
     "execution_count": 86,
     "metadata": {},
     "output_type": "execute_result"
    }
   ],
   "source": [
    "set(Xtrain[:,0])"
   ]
  },
  {
   "cell_type": "code",
   "execution_count": 89,
   "metadata": {},
   "outputs": [
    {
     "name": "stdout",
     "output_type": "stream",
     "text": [
      "Building model...\n",
      "999/999 [==============================] - 0s 30us/step\n",
      "Test score: [2.1070453755490415, 0.6026026018567987]\n"
     ]
    }
   ],
   "source": [
    "colormodel = ch.train_region_model(Xtrain,M_test=Xtest)"
   ]
  },
  {
   "cell_type": "code",
   "execution_count": 79,
   "metadata": {},
   "outputs": [
    {
     "data": {
      "text/plain": [
       "['loss', 'acc']"
      ]
     },
     "execution_count": 79,
     "metadata": {},
     "output_type": "execute_result"
    }
   ],
   "source": [
    "colormodel.metrics_names"
   ]
  },
  {
   "cell_type": "code",
   "execution_count": null,
   "metadata": {
    "collapsed": true
   },
   "outputs": [],
   "source": []
  }
 ],
 "metadata": {
  "kernelspec": {
   "display_name": "Python 3",
   "language": "python",
   "name": "python3"
  },
  "language_info": {
   "codemirror_mode": {
    "name": "ipython",
    "version": 3
   },
   "file_extension": ".py",
   "mimetype": "text/x-python",
   "name": "python",
   "nbconvert_exporter": "python",
   "pygments_lexer": "ipython3",
   "version": "3.6.3"
  }
 },
 "nbformat": 4,
 "nbformat_minor": 2
}
